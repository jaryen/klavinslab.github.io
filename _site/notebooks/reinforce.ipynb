{
 "cells": [
  {
   "cell_type": "markdown",
   "metadata": {},
   "source": [
    "# ECE 447: Reinforcement Learning Example\n",
    "\n",
    "Eric Klavins\n",
    "\n",
    "Copyright (c) 2019, University of Washington"
   ]
  },
  {
   "cell_type": "markdown",
   "metadata": {
    "heading_collapsed": true
   },
   "source": [
    "# Includes"
   ]
  },
  {
   "cell_type": "code",
   "execution_count": 1,
   "metadata": {
    "ExecuteTime": {
     "end_time": "2019-06-03T22:00:01.495756Z",
     "start_time": "2019-06-03T21:59:59.613893Z"
    },
    "collapsed": true,
    "hidden": true
   },
   "outputs": [],
   "source": [
    "import numpy as np\n",
    "import scipy.integrate as spi\n",
    "import matplotlib.pyplot as plt\n",
    "import matplotlib.patches as patches\n",
    "from sympy import *\n",
    "from matplotlib import animation\n",
    "from JSAnimation.IPython_display import display_animation\n",
    "from control import * \n",
    "import gym\n",
    "import sys\n",
    "\n",
    "%matplotlib inline\n",
    "init_printing(use_latex='mathjax')"
   ]
  },
  {
   "cell_type": "markdown",
   "metadata": {},
   "source": [
    "# Code Base"
   ]
  },
  {
   "cell_type": "code",
   "execution_count": 2,
   "metadata": {
    "ExecuteTime": {
     "end_time": "2019-06-03T22:00:06.069790Z",
     "start_time": "2019-06-03T22:00:05.971511Z"
    },
    "collapsed": true
   },
   "outputs": [],
   "source": [
    "# Given a policy and a state, choose an action according to the policy\n",
    "def choose_action(policy,x,y):\n",
    "    w,e,s,n = policy[x][y]\n",
    "    r = np.random.random()\n",
    "    \n",
    "    if r < w:\n",
    "        return 0\n",
    "    elif r < w + e:\n",
    "        return 1\n",
    "    elif r < w + e + s:\n",
    "        return 2\n",
    "    else:\n",
    "        return 3\n",
    "\n",
    "# Directions associated with actions\n",
    "dirs = [\n",
    "    [-1,0], [1,0], [0,-1], [0,1]\n",
    "]\n",
    "\n",
    "# Run a policy for num_steps steps\n",
    "def sample(policy,num_steps):\n",
    "    x,y = [0,0] # [np.random.randint(0,5),np.random.randint(0,5)]\n",
    "    step = 0\n",
    "    xdata = np.array([])\n",
    "    ydata = np.array([])\n",
    "    adata = np.array([])\n",
    "    rdata = np.array([])\n",
    "    while step < num_steps:\n",
    "        a = choose_action(policy,x,y)\n",
    "        d = dirs[a]        \n",
    "        xdata = np.append(xdata,x)\n",
    "        ydata = np.append(ydata,y)\n",
    "        adata = np.append(adata,a)\n",
    "        if x + d[0] >= 0 and x + d[0] < size:\n",
    "            x = x + d[0]\n",
    "        if y + d[1] >= 0 and y + d[1] < size:            \n",
    "            y = y + d[1]\n",
    "        rdata = np.append(rdata,map[x,y])\n",
    "        step += 1\n",
    "    return np.transpose([xdata,ydata,adata,rdata])\n",
    "\n",
    "# The gradient of a policy at a state (x,y) evaluated at action a\n",
    "def dlogpol(policy,x,y,a):\n",
    "    temp = [\n",
    "        [\n",
    "            [0,0,0,0] \n",
    "            for y in range(size)\n",
    "        ] for x in range(size)\n",
    "    ] \n",
    "    if policy[int(x)][int(y)][int(a)] < 0:\n",
    "        print(\"neg prob\")\n",
    "    temp[int(x)][int(y)][int(a)] = 1/(0.01+policy[int(x)][int(y)][int(a)])\n",
    "    return np.array(temp)\n",
    "\n",
    "# Not always used: Some random noise\n",
    "def noise():\n",
    "    return np.random.rand(4)\n",
    "\n",
    "# Normalize a policy so that the probabilities of all the directions sum to 1\n",
    "# Also make sure non of them are negative.\n",
    "def normalize(policy):\n",
    "    p = policy\n",
    "    for x in range(size):\n",
    "        for y in range(size):\n",
    "            for i in [0,1,2,3]:\n",
    "                p[x,y,i] = max(0.0,p[x,y,i])\n",
    "    return np.array([\n",
    "        [\n",
    "            p[x][y] / sum(p[x][y]) if sum(p[x][y]) else noise()\n",
    "            for y in range(size)\n",
    "        ] for x in range(size)\n",
    "    ])    \n",
    "\n",
    "# View a trajectory\n",
    "def show_trajectory(tau):\n",
    "    for q in tau:\n",
    "        if ( q[0] + dirs[int(q[2])][0] < size and q[1] + dirs[int(q[2])][1] < size and\n",
    "             q[0] + dirs[int(q[2])][0] >= 0   and q[1] + dirs[int(q[2])][1] >= 0   and\n",
    "             q[1] + dirs[int(q[2])][1] < size and q[1] + dirs[int(q[2])][1] < size and\n",
    "             q[1] + dirs[int(q[2])][1] >= 0   and q[1] + dirs[int(q[2])][1] >= 0 ):\n",
    "            plt.arrow(\n",
    "                q[0], q[1], dirs[int(q[2])][0], dirs[int(q[2])][1],\n",
    "                length_includes_head=True, head_width=0.2, head_length=0.2\n",
    "            )\n",
    "    plt.scatter(tau[:,0], tau[:,1])\n",
    "    for x in range(size):\n",
    "        for y in range(size):\n",
    "            plt.text(x+0.1,y+0.1,\"%d\" % map[x][y])\n",
    "    plt.xlim(-1,size)\n",
    "    plt.ylim(-1,size);\n",
    "    plt.gca().set_aspect(1)\n",
    "    return plt"
   ]
  },
  {
   "cell_type": "markdown",
   "metadata": {},
   "source": [
    "# Policy Optimization"
   ]
  },
  {
   "cell_type": "code",
   "execution_count": 10,
   "metadata": {
    "ExecuteTime": {
     "end_time": "2019-06-04T00:28:53.544968Z",
     "start_time": "2019-06-04T00:28:53.114123Z"
    }
   },
   "outputs": [
    {
     "data": {
      "image/png": "[encoded data removed]",
      "text/plain": [
       "<Figure size 432x288 with 1 Axes>"
      ]
     },
     "metadata": {},
     "output_type": "display_data"
    }
   ],
   "source": [
    "# Build a map\n",
    "\n",
    "size = 5\n",
    "map = np.array([\n",
    "    [np.random.randint(0,1) for y in range(size)]\n",
    "    for x in range(size)\n",
    "])\n",
    "map[2,1] = -1\n",
    "map[1,2] = -1\n",
    "map[4,4] = 10\n",
    "for x in range(size):\n",
    "    for y in range(size):\n",
    "        plt.text(x+0.1,y+0.1,\"%d\" % map[x][y])\n",
    "        \n",
    "plt.xlim(-1,size)\n",
    "plt.ylim(-1,size);\n",
    "plt.gca().set_aspect(1) "
   ]
  },
  {
   "cell_type": "code",
   "execution_count": 13,
   "metadata": {
    "ExecuteTime": {
     "end_time": "2019-06-04T00:29:32.986262Z",
     "start_time": "2019-06-04T00:29:32.763296Z"
    }
   },
   "outputs": [
    {
     "data": {
      "text/plain": [
       "array([[ 0.,  0.,  1.,  0.],\n",
       "       [ 1.,  0.,  1.,  0.],\n",
       "       [ 2.,  0.,  3., -1.],\n",
       "       [ 2.,  1.,  3.,  0.],\n",
       "       [ 2.,  2.,  3.,  0.],\n",
       "       [ 2.,  3.,  0.,  0.],\n",
       "       [ 1.,  3.,  2., -1.],\n",
       "       [ 1.,  2.,  1.,  0.],\n",
       "       [ 2.,  2.,  2., -1.],\n",
       "       [ 2.,  1.,  2.,  0.],\n",
       "       [ 2.,  0.,  0.,  0.],\n",
       "       [ 1.,  0.,  2.,  0.],\n",
       "       [ 1.,  0.,  0.,  0.],\n",
       "       [ 0.,  0.,  1.,  0.],\n",
       "       [ 1.,  0.,  0.,  0.]])"
      ]
     },
     "execution_count": 13,
     "metadata": {},
     "output_type": "execute_result"
    },
    {
     "data": {
      "image/png": "[encoded data removed]",
      "text/plain": [
       "<Figure size 432x288 with 1 Axes>"
      ]
     },
     "metadata": {},
     "output_type": "display_data"
    }
   ],
   "source": [
    "# Make an initial policy\n",
    "\n",
    "policy0 = np.array([\n",
    "    [\n",
    "        [0.25, 0.25, 0.25, 0.25] for y in range(size)\n",
    "    ] for x in range(size)\n",
    "])\n",
    "\n",
    "tau = sample(policy0,15)\n",
    "show_trajectory(tau);\n",
    "tau"
   ]
  },
  {
   "cell_type": "code",
   "execution_count": 29,
   "metadata": {
    "ExecuteTime": {
     "end_time": "2019-06-04T00:39:57.850537Z",
     "start_time": "2019-06-04T00:39:54.107600Z"
    }
   },
   "outputs": [
    {
     "name": "stdout",
     "output_type": "stream",
     "text": [
      "Step 100, Reward: 80.000000"
     ]
    },
    {
     "data": {
      "text/plain": [
       "Text(0, 0.5, 'Reward')"
      ]
     },
     "execution_count": 29,
     "metadata": {},
     "output_type": "execute_result"
    },
    {
     "data": {
      "image/png": "[encoded data removed]",
      "text/plain": [
       "<Figure size 432x288 with 1 Axes>"
      ]
     },
     "metadata": {},
     "output_type": "display_data"
    }
   ],
   "source": [
    "# The REINFORCE algorithm\n",
    "\n",
    "# Number of epochs\n",
    "epochs = 100\n",
    "\n",
    "# Number of samples per epoch\n",
    "num = 50\n",
    "\n",
    "# Learning rate (nominally 0.01)\n",
    "rate = 0.01\n",
    "\n",
    "Rdata = np.array([])\n",
    "\n",
    "policy = policy0\n",
    "\n",
    "for i in range(epochs):\n",
    "    samples = [sample(policy,15) for i in range(num)]\n",
    "    R = sum([sum(s[:,3]) for s in samples])/len(samples) # Used as a baseline\n",
    "    Rdata = np.append(Rdata,R)\n",
    "    sys.stdout.write(\"\\rStep %d, Reward: %lf\" % (i+1,R))\n",
    "    dJ = sum([\n",
    "           sum([dlogpol(policy,s[t,0],s[t,1],s[t,2])*(sum(s[t:,3])-R)\n",
    "              for t in range(10)]) \n",
    "           for s in samples\n",
    "    ])/len(samples)\n",
    "    policy = normalize(policy + rate * dJ)\n",
    "    \n",
    "plt.plot(Rdata);\n",
    "plt.xlabel(\"Epoch\")\n",
    "plt.ylabel(\"Reward\")"
   ]
  },
  {
   "cell_type": "code",
   "execution_count": 23,
   "metadata": {
    "ExecuteTime": {
     "end_time": "2019-06-04T00:35:24.813259Z",
     "start_time": "2019-06-04T00:35:24.575245Z"
    }
   },
   "outputs": [
    {
     "data": {
      "text/plain": [
       "<module 'matplotlib.pyplot' from '/anaconda/lib/python3.6/site-packages/matplotlib/pyplot.py'>"
      ]
     },
     "execution_count": 23,
     "metadata": {},
     "output_type": "execute_result"
    },
    {
     "data": {
      "image/png": "[encoded data removed]",
      "text/plain": [
       "<Figure size 432x288 with 1 Axes>"
      ]
     },
     "metadata": {},
     "output_type": "display_data"
    }
   ],
   "source": [
    "# Show a trajectory from the optimized policy\n",
    "show_trajectory(sample(policy,15))"
   ]
  },
  {
   "cell_type": "code",
   "execution_count": 24,
   "metadata": {
    "ExecuteTime": {
     "end_time": "2019-06-04T00:35:28.194196Z",
     "start_time": "2019-06-04T00:35:28.009251Z"
    }
   },
   "outputs": [
    {
     "data": {
      "image/png": "[encoded data removed]",
      "text/plain": [
       "<Figure size 432x288 with 1 Axes>"
      ]
     },
     "metadata": {},
     "output_type": "display_data"
    }
   ],
   "source": [
    "# Visualize the policy\n",
    "\n",
    "for x in range(size):\n",
    "    for y in range(size):  \n",
    "        dx = -1*policy[x,y,0] + 1*policy[x,y,1]\n",
    "        dy = -1*policy[x,y,2] + 1*policy[x,y,3]\n",
    "        if ( x+dx < size and x+dx >= 0 and\n",
    "             y+dy < size and y+dy >= 0 ):        \n",
    "            plt.arrow(x,y,dx,dy,\n",
    "                     length_includes_head=True, head_width=0.2, head_length=0.2)\n",
    "        \n",
    "plt.xlim(-1,size)\n",
    "plt.ylim(-1,size);\n",
    "plt.gca().set_aspect(1)        "
   ]
  },
  {
   "cell_type": "code",
   "execution_count": null,
   "metadata": {
    "collapsed": true
   },
   "outputs": [],
   "source": []
  }
 ],
 "metadata": {
  "kernelspec": {
   "display_name": "Python 3",
   "language": "python",
   "name": "python3"
  },
  "language_info": {
   "codemirror_mode": {
    "name": "ipython",
    "version": 3
   },
   "file_extension": ".py",
   "mimetype": "text/x-python",
   "name": "python",
   "nbconvert_exporter": "python",
   "pygments_lexer": "ipython3",
   "version": "3.6.1"
  }
 },
 "nbformat": 4,
 "nbformat_minor": 2
}
